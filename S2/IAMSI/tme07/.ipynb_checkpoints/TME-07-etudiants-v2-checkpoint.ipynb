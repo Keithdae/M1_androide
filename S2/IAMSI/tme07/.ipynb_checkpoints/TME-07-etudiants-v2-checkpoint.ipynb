{
 "cells": [
  {
   "cell_type": "markdown",
   "metadata": {},
   "source": [
    "IAMSI -- 2015-2016\n",
    "--------\n",
    "*Equipe pédagogique: Marie-Jeanne Lesot, Christophe Marsala, Gauvain Bourgne, Bin Yang, Jean-Gabriel Ganascia*\n",
    "\n",
    "\n",
    "# TME 7 : Arbres de décision"
   ]
  },
  {
   "cell_type": "markdown",
   "metadata": {},
   "source": [
    "<font size=\"+1\">**[Q]**</font> **Indiquer dans la boîte ci-dessous vos noms et prénoms:**"
   ]
  },
  {
   "cell_type": "markdown",
   "metadata": {},
   "source": [
    "Bourdache Nadjet & Antunes Daniel"
   ]
  },
  {
   "cell_type": "markdown",
   "metadata": {},
   "source": [
    "## Présentation"
   ]
  },
  {
   "cell_type": "markdown",
   "metadata": {},
   "source": [
    "### But de ce TME\n",
    "\n",
    "Le travail à réaliser dans ce TME est le suivant:\n",
    "- apprendre à utiliser ipython notebook pour produire un rapport d'analyse sur une base d'apprentissage\n",
    "- s'initier à l'utilisation de la librairie Python \"scikit-learn\"\n",
    "- réaliser des expérimentations pour étudier la variation du taux d'erreur en fonction de la taille de la base d'apprentissage\n",
    "- expérimenter sur d'autres bases d'exemples"
   ]
  },
  {
   "cell_type": "markdown",
   "metadata": {},
   "source": [
    "#### Compte-rendu de la séance\n",
    "\n",
    "Le compte-rendu de ce TME se compose de ce fichier ipython complété par les réponses aux questions posées.\n",
    "\n",
    "Vous devrez poster ce fichier à votre chargé de TD: \n",
    "- à l'issue de la séance, vous ferez un premier envoi de ce que vous avez réalisé\n",
    "- si nécessaire, vous pourrez compléter par un second envoi à faire avant la séance suivante.\n"
   ]
  },
  {
   "cell_type": "markdown",
   "metadata": {},
   "source": [
    "### Utiliser ipython notebook\n",
    "\n",
    "Ce document est dynamique: il est composé de \"boîtes\" qui peuvent être \"compilées\" par la commande \"Run Cells\" du menu \"Cell\" (ou bien en cliquant sur l'icône >| ).\n",
    "\n",
    "Il y a **2 types principaux** de boîtes:\n",
    "- les boîtes \"Markdown\": tout ce qui est tapé dans ces boîtes est du texte qui sera rendu \"joliment\" après avoir été compilé. On peut y écrire des commandes en Latex pour définir des équations, et il reconnaît certaines balises HTML. En cliquant 2 fois dans une boîte Markdown compilée, on a accès à son contenu et on peut alors le modifier.\n",
    "- les boîtes \"Code\": dans ces boîtes, on écrit du code Python. La compilation de la boîte produit l'exécution de ce code Python et produit une boîte \"Out\" dans laquelle le résultat de la dernière commande est affiché. On peut y écrire tout code Python valide.\n",
    "\n",
    "Le type d'une boîte peut être modifié à l'aide du menu en haut de la page (juste au dessus du texte).\n",
    "\n",
    "L'icône \"+\" permet de créer une nouvelle boîte juste en dessous de la boîte active.\n",
    "\n",
    "L'icône avec les ciseaux permet d'effacer la boîte active (attention! c'est **irréversible !**).\n",
    "\n",
    "Pour en savoir plus:\n",
    "- http://ipython.org/\n",
    "\n",
    "Vous pouvez aussi vous référer à la documentation Python:\n",
    "- https://www.python.org/\n",
    "\n",
    "\n",
    "Dans ce qui suit, les boîtes Markdown commençant par <font size=\"+1\">**[Q]**</font> posent des questions auxquelles vous devez répondre dans la boîte qui suit directement (éventuellement, en créant une nouvelle boîte).\n",
    "Certaines des boîtes \"Code\" à remplir sont suivies d'une sortie \"Out[.]:\" qui vous donne un exemple du résultat attendu."
   ]
  },
  {
   "cell_type": "code",
   "execution_count": 9,
   "metadata": {
    "collapsed": false
   },
   "outputs": [
    {
     "name": "stdout",
     "output_type": "stream",
     "text": [
      "Un essai quelconque:\n"
     ]
    },
    {
     "data": {
      "text/plain": [
       "5"
      ]
     },
     "execution_count": 9,
     "metadata": {},
     "output_type": "execute_result"
    }
   ],
   "source": [
    "# exemple de boîte de code:\n",
    "#    --> sélectionner cette boîte (en cliquant à l'intérieur)\n",
    "#    --> effectuer \"Run Cells\" du Menu \"Cell\" (ou bien cliquer sur l'icône >|)\n",
    "# \n",
    "\n",
    "print(\"Un essai quelconque:\")\n",
    "2+3\n"
   ]
  },
  {
   "cell_type": "markdown",
   "metadata": {},
   "source": [
    "<font size=\"+1\">**[Q]**</font> Dans la boîte \"Code\" suivante, donner les instructions Python pour effectuer le calcul: \n",
    "$$-\\frac{1}{3}\\log_2(\\frac{1}{3})-\\frac{2}{3}\\log_2(\\frac{2}{3})$$"
   ]
  },
  {
   "cell_type": "code",
   "execution_count": 10,
   "metadata": {
    "collapsed": false
   },
   "outputs": [
    {
     "data": {
      "text/plain": [
       "0.1383458330929479"
      ]
     },
     "execution_count": 10,
     "metadata": {},
     "output_type": "execute_result"
    }
   ],
   "source": [
    "import math as m\n",
    "\n",
    "(-1./3.)*m.log(1.0/3.0,2)-(-2./3.)*m.log(2.0/3.0,2)"
   ]
  },
  {
   "cell_type": "markdown",
   "metadata": {},
   "source": [
    "**<font style=\"BACKGROUND-COLOR: lightgray\" color='red'> Important</font>**:\n",
    "en lisant ce texte sur votre ordinateur, pensez bien à exécuter les boîtes \"Code\" dans l'ordre de leur apparition. Toute la page se comporte comme une session Python unique et il pour exécuter certaines boîtes il est nécessaire que les précédentes aient été exécutées au préalable."
   ]
  },
  {
   "cell_type": "markdown",
   "metadata": {},
   "source": [
    "### Chargement de numpy\n",
    "\n",
    "Avant de commencer, exécuter la boîte suivante qui permet d'utiliser ensuite la librairie Python numpy qui fournit des facilités pour manipuler des tableaux. En cas de besoin, vous pouvez vous référer à la documentation qui se trouve ici:\n",
    "- http://www.numpy.org/\n"
   ]
  },
  {
   "cell_type": "code",
   "execution_count": 11,
   "metadata": {
    "collapsed": true
   },
   "outputs": [],
   "source": [
    "import numpy as np\n",
    "\n",
    "# A partir d'ici, les fonctions de la librairie numpy sont accessibles en utilisant \n",
    "# le préfixe \"np.\""
   ]
  },
  {
   "cell_type": "markdown",
   "metadata": {},
   "source": [
    "## Utilisation de scikit-learn\n",
    "\n",
    "La librairie Python scikit-learn fournit tout un ensemble de fonctions et facilités pour utiliser des algorithmes d'apprentissage, dont beaucoup sont fournis implémentés.\n",
    "Dans le cadre de ce TME, nous allons utiliser l'implémentation de l'algorithme de construction d'arbres de décision qui est fournie dans cette librairie.\n",
    "\n",
    "Tout au long de cette séance, vous pouvez vous référer à la documentation disponible ici:\n",
    "- http://scikit-learn.org/stable/index.html"
   ]
  },
  {
   "cell_type": "markdown",
   "metadata": {},
   "source": [
    "### Chargement d'une base d'apprentissage prédéfinie\n",
    "\n",
    "Scikit-learn est fournie avec quelques bases d'apprentissage classiques comme, par exemple, la base des Iris de Fischer."
   ]
  },
  {
   "cell_type": "markdown",
   "metadata": {},
   "source": [
    "Exécuter les 2 commandes suivantes permettant de charger la base des Iris dans la session:"
   ]
  },
  {
   "cell_type": "code",
   "execution_count": 12,
   "metadata": {
    "collapsed": false
   },
   "outputs": [],
   "source": [
    "from sklearn.datasets import load_iris\n",
    "base_iris = load_iris()"
   ]
  },
  {
   "cell_type": "markdown",
   "metadata": {},
   "source": [
    "En vous aidant de la documentation de l'API: \n",
    "- http://scikit-learn.org/stable/datasets/index.html#datasets\n",
    "\n",
    "<font size=\"+1\">**[Q]**</font> Donner dans les boîtes suivantes les commandes "
   ]
  },
  {
   "cell_type": "markdown",
   "metadata": {},
   "source": [
    "- pour afficher le nom des attributs de description:"
   ]
  },
  {
   "cell_type": "code",
   "execution_count": 13,
   "metadata": {
    "collapsed": false
   },
   "outputs": [
    {
     "name": "stdout",
     "output_type": "stream",
     "text": [
      "['sepal length (cm)', 'sepal width (cm)', 'petal length (cm)', 'petal width (cm)']\n"
     ]
    }
   ],
   "source": [
    "print base_iris.feature_names\n"
   ]
  },
  {
   "cell_type": "markdown",
   "metadata": {},
   "source": [
    "- pour afficher les descriptions de l'ensemble des exemples de la base:"
   ]
  },
  {
   "cell_type": "code",
   "execution_count": 14,
   "metadata": {
    "collapsed": false
   },
   "outputs": [
    {
     "name": "stdout",
     "output_type": "stream",
     "text": [
      "[[ 5.1  3.5  1.4  0.2]\n",
      " [ 4.9  3.   1.4  0.2]\n",
      " [ 4.7  3.2  1.3  0.2]\n",
      " [ 4.6  3.1  1.5  0.2]\n",
      " [ 5.   3.6  1.4  0.2]\n",
      " [ 5.4  3.9  1.7  0.4]\n",
      " [ 4.6  3.4  1.4  0.3]\n",
      " [ 5.   3.4  1.5  0.2]\n",
      " [ 4.4  2.9  1.4  0.2]\n",
      " [ 4.9  3.1  1.5  0.1]]\n"
     ]
    }
   ],
   "source": [
    "print base_iris.data[0:10]"
   ]
  },
  {
   "cell_type": "markdown",
   "metadata": {},
   "source": [
    "- pour afficher les noms des classes:"
   ]
  },
  {
   "cell_type": "code",
   "execution_count": 15,
   "metadata": {
    "collapsed": false
   },
   "outputs": [
    {
     "name": "stdout",
     "output_type": "stream",
     "text": [
      "['setosa' 'versicolor' 'virginica']\n"
     ]
    }
   ],
   "source": [
    "print base_iris.target_names"
   ]
  },
  {
   "cell_type": "markdown",
   "metadata": {},
   "source": [
    "- pour afficher les valeurs des classes pour l'ensemble des exemples de la base:"
   ]
  },
  {
   "cell_type": "code",
   "execution_count": 16,
   "metadata": {
    "collapsed": false
   },
   "outputs": [
    {
     "name": "stdout",
     "output_type": "stream",
     "text": [
      "[0 0 0 0 0 0 0 0 0 0 0 0 0 0 0 0 0 0 0 0 0 0 0 0 0 0 0 0 0 0 0 0 0 0 0 0 0\n",
      " 0 0 0 0 0 0 0 0 0 0 0 0 0 1 1 1 1 1 1 1 1 1 1 1 1 1 1 1 1 1 1 1 1 1 1 1 1\n",
      " 1 1 1 1 1 1 1 1 1 1 1 1 1 1 1 1 1 1 1 1 1 1 1 1 1 1 2 2 2 2 2 2 2 2 2 2 2\n",
      " 2 2 2 2 2 2 2 2 2 2 2 2 2 2 2 2 2 2 2 2 2 2 2 2 2 2 2 2 2 2 2 2 2 2 2 2 2\n",
      " 2 2]\n"
     ]
    }
   ],
   "source": [
    "print base_iris.target"
   ]
  },
  {
   "cell_type": "markdown",
   "metadata": {},
   "source": [
    "<font size=\"+1\">**[Q]**</font> Donner une instruction Python permettant de savoir combien d'exemples contient cette base."
   ]
  },
  {
   "cell_type": "code",
   "execution_count": 17,
   "metadata": {
    "collapsed": false
   },
   "outputs": [
    {
     "name": "stdout",
     "output_type": "stream",
     "text": [
      "Il y a en tout 150 exemples\n"
     ]
    }
   ],
   "source": [
    "print 'Il y a en tout ' + str(len(base_iris.data)) + ' exemples'"
   ]
  },
  {
   "cell_type": "markdown",
   "metadata": {},
   "source": [
    "<font size=\"+1\">**[Q]**</font> Ecrire la fonction affiche_exemple() qui prend en argument une base d'exemples et un nombre entier $i$ et qui affiche *joliment* l'exemple d'indice $i$ de la base, sur le format donné en exemple ci-dessous.\n",
    "On pourra faire l'hypothèse que l'indice est correct pour la base donnée."
   ]
  },
  {
   "cell_type": "code",
   "execution_count": 18,
   "metadata": {
    "collapsed": false
   },
   "outputs": [],
   "source": [
    "def affiche_exemple(base, i):\n",
    "    print 'Exemple ' + str(i) +':'\n",
    "    for j in range(len(base.feature_names)):\n",
    "        print '\\t' + base.feature_names[j] + '\\t: ' + str(base.data[i][j])\n",
    "    print '\\t-> Classe ' + base.target_names[base.target[i]]"
   ]
  },
  {
   "cell_type": "code",
   "execution_count": 19,
   "metadata": {
    "collapsed": false
   },
   "outputs": [
    {
     "name": "stdout",
     "output_type": "stream",
     "text": [
      "Exemple 0:\n",
      "\tsepal length (cm)\t: 5.1\n",
      "\tsepal width (cm)\t: 3.5\n",
      "\tpetal length (cm)\t: 1.4\n",
      "\tpetal width (cm)\t: 0.2\n",
      "\t-> Classe setosa\n"
     ]
    }
   ],
   "source": [
    "affiche_exemple(base_iris,0)"
   ]
  },
  {
   "cell_type": "code",
   "execution_count": 20,
   "metadata": {
    "collapsed": false
   },
   "outputs": [
    {
     "name": "stdout",
     "output_type": "stream",
     "text": [
      "Exemple 50:\n",
      "\tsepal length (cm)\t: 7.0\n",
      "\tsepal width (cm)\t: 3.2\n",
      "\tpetal length (cm)\t: 4.7\n",
      "\tpetal width (cm)\t: 1.4\n",
      "\t-> Classe versicolor\n"
     ]
    }
   ],
   "source": [
    "affiche_exemple(base_iris,50)"
   ]
  },
  {
   "cell_type": "code",
   "execution_count": 21,
   "metadata": {
    "collapsed": false
   },
   "outputs": [
    {
     "name": "stdout",
     "output_type": "stream",
     "text": [
      "Exemple 149:\n",
      "\tsepal length (cm)\t: 5.9\n",
      "\tsepal width (cm)\t: 3.0\n",
      "\tpetal length (cm)\t: 5.1\n",
      "\tpetal width (cm)\t: 1.8\n",
      "\t-> Classe virginica\n"
     ]
    }
   ],
   "source": [
    "affiche_exemple(base_iris,149)"
   ]
  },
  {
   "cell_type": "markdown",
   "metadata": {},
   "source": [
    "### Constitution d'une base d'apprentissage et d'une base de test\n",
    "\n",
    "Pour mettre au point et vérifier l'efficacité de l'apprentissage de notre modèle, il est nécessaire de posséder deux ensembles disjoints d'exemples:\n",
    "- l'ensemble des exemples d'apprentissage servant à construire l'arbre de décision (la base d'apprentissage);\n",
    "- l'ensemble des exemples servant à tester l'arbre construit (la base de test).\n",
    "\n",
    "Dans ce qui suit, on construit une base d'apprentissage en prenant 90 exemples de la base des iris (on s'arrange pour que la distribution des classes soit respectée en prenant les premiers 30 exemples de chaque classe) pour la base d'apprentissage (nommée *app_data*, avec les classes correspondantes dans *app_target*) et 60 exemples pour la base de test (nommée *test_data*, avec les classes correspondantes *test_target*)."
   ]
  },
  {
   "cell_type": "code",
   "execution_count": 22,
   "metadata": {
    "collapsed": false
   },
   "outputs": [
    {
     "name": "stdout",
     "output_type": "stream",
     "text": [
      "90  /  90  /  60  /  60\n"
     ]
    }
   ],
   "source": [
    "# On utilise ici le fait que dans la base chargée en mémoire: \n",
    "#     - les 50 premiers exemples (indices 0 à 49) sont de la classe 0\n",
    "#     - les 50 exemples suivants (indices 50 à 99) sont de la classe 1\n",
    "#     - les 50 exemples suivants (indices 100 à 150) sont de la classe 2\n",
    "\n",
    "# préparation: détermination des indices pour la séparation des données\n",
    "ind_app_1 = range(0,30)     # les 30 descriptions des premiers exemples de la base (classe 0)\n",
    "ind_tes_1 = range(30,50)    # les 20 descriptions des exemples restant de la classe 0 \n",
    "\n",
    "ind_app_2 = range(50,80)    # les 30 premiers exemples de la classe 1\n",
    "ind_tes_2 = range(80,100)   # les 20 exemples restant de la classe 1\n",
    "\n",
    "ind_app_3 = range(100,130)  # les 30 premiers exemples de la classe 2\n",
    "ind_tes_3 = range(130,150)  # les 20 exemples restant de la classe 2 \n",
    "\n",
    "# constitution de la base d'apprentissage\n",
    "#   1) on duplique les descriptions \n",
    "data_1= base_iris.data[ind_app_1].copy()\n",
    "data_2= base_iris.data[ind_app_2].copy()\n",
    "data_3= base_iris.data[ind_app_3].copy()\n",
    "app_data = np.concatenate((data_1,data_2,data_3), axis=0)\n",
    "\n",
    "#   2) on duplique identiquement les classes associées\n",
    "target_1= base_iris.target[ind_app_1].copy()\n",
    "target_2= base_iris.target[ind_app_2].copy()\n",
    "target_3= base_iris.target[ind_app_3].copy()\n",
    "app_target= np.concatenate((target_1,target_2,target_3), axis=0)\n",
    "\n",
    "# constitution de la base de test\n",
    "#   1) on duplique les descriptions \n",
    "data_4= base_iris.data[ind_tes_1].copy()\n",
    "data_5= base_iris.data[ind_tes_2].copy()\n",
    "data_6= base_iris.data[ind_tes_3].copy()\n",
    "test_data = np.concatenate((data_4, data_5, data_6), axis=0)\n",
    "\n",
    "#   2) on duplique identiquement les classes associées\n",
    "target_4= base_iris.target[ind_tes_1].copy()\n",
    "target_5= base_iris.target[ind_tes_2].copy()\n",
    "target_6= base_iris.target[ind_tes_3].copy()\n",
    "test_target= np.concatenate((target_4,target_5,target_6), axis=0)\n",
    "\n",
    "# tout est prêt: on a 4 variables: 2 pour la base d'apprentissage et 2 pour la base de test:\n",
    "print len(app_data),\" / \", len(app_target),\" / \", len(test_data),\" / \", len(test_target)"
   ]
  },
  {
   "cell_type": "markdown",
   "metadata": {},
   "source": [
    "### Affichage de l'arbre de décision construit\n",
    "\n",
    "L'affichage s'effectue en 2 temps:\n",
    "- la génération de l'arbre au format *.dot* qui est sauvegardé dans un fichier sur le disque;\n",
    "- la transformation, à l'aide de la commande \"dot\" de linux du fichier *.dot* en fichier *.png*."
   ]
  },
  {
   "cell_type": "markdown",
   "metadata": {},
   "source": [
    "### Construction d'un arbre de décision\n",
    "\n",
    "La construction d'un arbre de décision s'effectue grâce à la fonction *DecisionTreeClassifier* du paquetage *tree* de la librairie scikit-learn.\n"
   ]
  },
  {
   "cell_type": "code",
   "execution_count": 23,
   "metadata": {
    "collapsed": false
   },
   "outputs": [
    {
     "data": {
      "text/plain": [
       "DecisionTreeClassifier(compute_importances=None, criterion='gini',\n",
       "            max_depth=None, max_features=None, min_density=None,\n",
       "            min_samples_leaf=1, min_samples_split=2, random_state=None,\n",
       "            splitter='best')"
      ]
     },
     "execution_count": 23,
     "metadata": {},
     "output_type": "execute_result"
    }
   ],
   "source": [
    "from sklearn import tree\n",
    "\n",
    "# déclaration / initialisation d'un arbre\n",
    "mon_arbre = tree.DecisionTreeClassifier()\n",
    "\n",
    "# construction de l'arbre avec la base des Iris prise totalement\n",
    "mon_arbre.fit(base_iris.data, base_iris.target)"
   ]
  },
  {
   "cell_type": "markdown",
   "metadata": {},
   "source": [
    "Cette dernière instruction renvoie une référence vers l'arbre construit. Elle fournit aussi une sortie permettant de voir les différents paramètres utilisés lors de la construction.\n",
    "\n",
    "Le paramètre qui nous intéresse ici sera le paramètre \"criterion\" qui définit la mesure d'information à utiliser pour construire l'arbre.\n",
    "\n",
    "Pour obtenir une construction basée sur l'entropie de Shannon, on utilise la syntaxe suivante qui précise le critère de sélection à utiliser."
   ]
  },
  {
   "cell_type": "code",
   "execution_count": 24,
   "metadata": {
    "collapsed": false
   },
   "outputs": [
    {
     "data": {
      "text/plain": [
       "DecisionTreeClassifier(compute_importances=None, criterion='entropy',\n",
       "            max_depth=None, max_features=None, min_density=None,\n",
       "            min_samples_leaf=1, min_samples_split=2, random_state=None,\n",
       "            splitter='best')"
      ]
     },
     "execution_count": 24,
     "metadata": {},
     "output_type": "execute_result"
    }
   ],
   "source": [
    "# initialisation d'un arbre qui sera construit avec l'entropie de Shannon\n",
    "autre_arbre = tree.DecisionTreeClassifier(criterion='entropy')\n",
    "\n",
    "# construction de l'arbre avec la base d'apprentissage réduite au 90 premiers exemples:\n",
    "autre_arbre.fit(app_data, app_target)"
   ]
  },
  {
   "cell_type": "code",
   "execution_count": 25,
   "metadata": {
    "collapsed": false
   },
   "outputs": [
    {
     "ename": "IOError",
     "evalue": "[Errno 2] No such file or directory: u'autre_arbre.png'",
     "output_type": "error",
     "traceback": [
      "\u001b[1;31m---------------------------------------------------------------------------\u001b[0m",
      "\u001b[1;31mIOError\u001b[0m                                   Traceback (most recent call last)",
      "\u001b[1;32m<ipython-input-25-7a71c83a3dd7>\u001b[0m in \u001b[0;36m<module>\u001b[1;34m()\u001b[0m\n\u001b[0;32m     15\u001b[0m \u001b[1;33m\u001b[0m\u001b[0m\n\u001b[0;32m     16\u001b[0m \u001b[1;31m# Pour afficher l'image obtenue dans la boite Out qui suit:\u001b[0m\u001b[1;33m\u001b[0m\u001b[1;33m\u001b[0m\u001b[0m\n\u001b[1;32m---> 17\u001b[1;33m \u001b[0mImage\u001b[0m\u001b[1;33m(\u001b[0m\u001b[0mfilename\u001b[0m\u001b[1;33m=\u001b[0m\u001b[0mfichierOut\u001b[0m\u001b[1;33m+\u001b[0m\u001b[1;34m'.png'\u001b[0m\u001b[1;33m)\u001b[0m\u001b[1;33m\u001b[0m\u001b[0m\n\u001b[0m",
      "\u001b[1;32m/usr/local/lib/python2.7/dist-packages/IPython/core/display.pyc\u001b[0m in \u001b[0;36m__init__\u001b[1;34m(self, data, url, filename, format, embed, width, height, retina, unconfined, metadata)\u001b[0m\n\u001b[0;32m    737\u001b[0m         \u001b[0mself\u001b[0m\u001b[1;33m.\u001b[0m\u001b[0munconfined\u001b[0m \u001b[1;33m=\u001b[0m \u001b[0munconfined\u001b[0m\u001b[1;33m\u001b[0m\u001b[0m\n\u001b[0;32m    738\u001b[0m         \u001b[0mself\u001b[0m\u001b[1;33m.\u001b[0m\u001b[0mmetadata\u001b[0m \u001b[1;33m=\u001b[0m \u001b[0mmetadata\u001b[0m\u001b[1;33m\u001b[0m\u001b[0m\n\u001b[1;32m--> 739\u001b[1;33m         \u001b[0msuper\u001b[0m\u001b[1;33m(\u001b[0m\u001b[0mImage\u001b[0m\u001b[1;33m,\u001b[0m \u001b[0mself\u001b[0m\u001b[1;33m)\u001b[0m\u001b[1;33m.\u001b[0m\u001b[0m__init__\u001b[0m\u001b[1;33m(\u001b[0m\u001b[0mdata\u001b[0m\u001b[1;33m=\u001b[0m\u001b[0mdata\u001b[0m\u001b[1;33m,\u001b[0m \u001b[0murl\u001b[0m\u001b[1;33m=\u001b[0m\u001b[0murl\u001b[0m\u001b[1;33m,\u001b[0m \u001b[0mfilename\u001b[0m\u001b[1;33m=\u001b[0m\u001b[0mfilename\u001b[0m\u001b[1;33m)\u001b[0m\u001b[1;33m\u001b[0m\u001b[0m\n\u001b[0m\u001b[0;32m    740\u001b[0m \u001b[1;33m\u001b[0m\u001b[0m\n\u001b[0;32m    741\u001b[0m         \u001b[1;32mif\u001b[0m \u001b[0mretina\u001b[0m\u001b[1;33m:\u001b[0m\u001b[1;33m\u001b[0m\u001b[0m\n",
      "\u001b[1;32m/usr/local/lib/python2.7/dist-packages/IPython/core/display.pyc\u001b[0m in \u001b[0;36m__init__\u001b[1;34m(self, data, url, filename)\u001b[0m\n\u001b[0;32m    384\u001b[0m         \u001b[0mself\u001b[0m\u001b[1;33m.\u001b[0m\u001b[0mfilename\u001b[0m \u001b[1;33m=\u001b[0m \u001b[0mNone\u001b[0m \u001b[1;32mif\u001b[0m \u001b[0mfilename\u001b[0m \u001b[1;32mis\u001b[0m \u001b[0mNone\u001b[0m \u001b[1;32melse\u001b[0m \u001b[0municode_type\u001b[0m\u001b[1;33m(\u001b[0m\u001b[0mfilename\u001b[0m\u001b[1;33m)\u001b[0m\u001b[1;33m\u001b[0m\u001b[0m\n\u001b[0;32m    385\u001b[0m \u001b[1;33m\u001b[0m\u001b[0m\n\u001b[1;32m--> 386\u001b[1;33m         \u001b[0mself\u001b[0m\u001b[1;33m.\u001b[0m\u001b[0mreload\u001b[0m\u001b[1;33m(\u001b[0m\u001b[1;33m)\u001b[0m\u001b[1;33m\u001b[0m\u001b[0m\n\u001b[0m\u001b[0;32m    387\u001b[0m         \u001b[0mself\u001b[0m\u001b[1;33m.\u001b[0m\u001b[0m_check_data\u001b[0m\u001b[1;33m(\u001b[0m\u001b[1;33m)\u001b[0m\u001b[1;33m\u001b[0m\u001b[0m\n\u001b[0;32m    388\u001b[0m \u001b[1;33m\u001b[0m\u001b[0m\n",
      "\u001b[1;32m/usr/local/lib/python2.7/dist-packages/IPython/core/display.pyc\u001b[0m in \u001b[0;36mreload\u001b[1;34m(self)\u001b[0m\n\u001b[0;32m    759\u001b[0m         \u001b[1;34m\"\"\"Reload the raw data from file or URL.\"\"\"\u001b[0m\u001b[1;33m\u001b[0m\u001b[0m\n\u001b[0;32m    760\u001b[0m         \u001b[1;32mif\u001b[0m \u001b[0mself\u001b[0m\u001b[1;33m.\u001b[0m\u001b[0membed\u001b[0m\u001b[1;33m:\u001b[0m\u001b[1;33m\u001b[0m\u001b[0m\n\u001b[1;32m--> 761\u001b[1;33m             \u001b[0msuper\u001b[0m\u001b[1;33m(\u001b[0m\u001b[0mImage\u001b[0m\u001b[1;33m,\u001b[0m\u001b[0mself\u001b[0m\u001b[1;33m)\u001b[0m\u001b[1;33m.\u001b[0m\u001b[0mreload\u001b[0m\u001b[1;33m(\u001b[0m\u001b[1;33m)\u001b[0m\u001b[1;33m\u001b[0m\u001b[0m\n\u001b[0m\u001b[0;32m    762\u001b[0m             \u001b[1;32mif\u001b[0m \u001b[0mself\u001b[0m\u001b[1;33m.\u001b[0m\u001b[0mretina\u001b[0m\u001b[1;33m:\u001b[0m\u001b[1;33m\u001b[0m\u001b[0m\n\u001b[0;32m    763\u001b[0m                 \u001b[0mself\u001b[0m\u001b[1;33m.\u001b[0m\u001b[0m_retina_shape\u001b[0m\u001b[1;33m(\u001b[0m\u001b[1;33m)\u001b[0m\u001b[1;33m\u001b[0m\u001b[0m\n",
      "\u001b[1;32m/usr/local/lib/python2.7/dist-packages/IPython/core/display.pyc\u001b[0m in \u001b[0;36mreload\u001b[1;34m(self)\u001b[0m\n\u001b[0;32m    402\u001b[0m         \u001b[1;34m\"\"\"Reload the raw data from file or URL.\"\"\"\u001b[0m\u001b[1;33m\u001b[0m\u001b[0m\n\u001b[0;32m    403\u001b[0m         \u001b[1;32mif\u001b[0m \u001b[0mself\u001b[0m\u001b[1;33m.\u001b[0m\u001b[0mfilename\u001b[0m \u001b[1;32mis\u001b[0m \u001b[1;32mnot\u001b[0m \u001b[0mNone\u001b[0m\u001b[1;33m:\u001b[0m\u001b[1;33m\u001b[0m\u001b[0m\n\u001b[1;32m--> 404\u001b[1;33m             \u001b[1;32mwith\u001b[0m \u001b[0mopen\u001b[0m\u001b[1;33m(\u001b[0m\u001b[0mself\u001b[0m\u001b[1;33m.\u001b[0m\u001b[0mfilename\u001b[0m\u001b[1;33m,\u001b[0m \u001b[0mself\u001b[0m\u001b[1;33m.\u001b[0m\u001b[0m_read_flags\u001b[0m\u001b[1;33m)\u001b[0m \u001b[1;32mas\u001b[0m \u001b[0mf\u001b[0m\u001b[1;33m:\u001b[0m\u001b[1;33m\u001b[0m\u001b[0m\n\u001b[0m\u001b[0;32m    405\u001b[0m                 \u001b[0mself\u001b[0m\u001b[1;33m.\u001b[0m\u001b[0mdata\u001b[0m \u001b[1;33m=\u001b[0m \u001b[0mf\u001b[0m\u001b[1;33m.\u001b[0m\u001b[0mread\u001b[0m\u001b[1;33m(\u001b[0m\u001b[1;33m)\u001b[0m\u001b[1;33m\u001b[0m\u001b[0m\n\u001b[0;32m    406\u001b[0m         \u001b[1;32melif\u001b[0m \u001b[0mself\u001b[0m\u001b[1;33m.\u001b[0m\u001b[0murl\u001b[0m \u001b[1;32mis\u001b[0m \u001b[1;32mnot\u001b[0m \u001b[0mNone\u001b[0m\u001b[1;33m:\u001b[0m\u001b[1;33m\u001b[0m\u001b[0m\n",
      "\u001b[1;31mIOError\u001b[0m: [Errno 2] No such file or directory: u'autre_arbre.png'"
     ]
    }
   ],
   "source": [
    "import io\n",
    "import os\n",
    "import pydot\n",
    "from IPython.display import Image\n",
    "    \n",
    "# Nom à donner au fichier de sauvegarde:\n",
    "fichierOut= \"autre_arbre\"\n",
    "# Génération du fichier .dot représentant l'arbre:\n",
    "tree.export_graphviz(autre_arbre, out_file=fichierOut+\".dot\", \\\n",
    "                     feature_names=base_iris.feature_names)\n",
    "\n",
    "# Transformation du fichier .dot en fichier .png:\n",
    "os.system(\"dot -Tpng \" + fichierOut+\".dot -o \" + fichierOut + \".png\")\n",
    "\n",
    "# à partir d'ici, vous devez avoir 2 nouveaux fichiers dans le répertoire courant\n",
    "\n",
    "# Pour afficher l'image obtenue dans la boite Out qui suit:\n",
    "Image(filename=fichierOut+'.png')"
   ]
  },
  {
   "cell_type": "markdown",
   "metadata": {},
   "source": [
    "<font size=\"+1\">**[Q]**</font> Examiner l'arbre obtenu et représenter, sur une feuille de brouillon, la frontière de décision vue sur les 2 dimensions \"petal width\" et \"petal length\". Dans chaque zone définie par cette frontière, indiquer la ou les classes correspondantes."
   ]
  },
  {
   "cell_type": "markdown",
   "metadata": {},
   "source": [
    "### Classification avec un arbre de décision\n",
    "\n",
    "La méthode predict() de la classe DecisionTreeClassifier() permet de réaliser la classification d'un ensemble de description (data) avec l'arbre construit.\n",
    "Ainsi, la commande suivante permet d'obtenir le résultat avec l'arbre précédent de la classification de tous les exemples de la base de test que l'on a construit plus haut."
   ]
  },
  {
   "cell_type": "code",
   "execution_count": 26,
   "metadata": {
    "collapsed": false
   },
   "outputs": [
    {
     "data": {
      "text/plain": [
       "array([0, 0, 0, 0, 0, 0, 0, 0, 0, 0, 0, 0, 0, 0, 0, 0, 0, 0, 0, 0, 1, 1, 1,\n",
       "       2, 1, 1, 1, 1, 1, 1, 1, 1, 1, 1, 1, 1, 1, 1, 1, 1, 2, 2, 2, 2, 2, 2,\n",
       "       2, 2, 1, 2, 2, 2, 2, 2, 2, 2, 2, 2, 2, 2])"
      ]
     },
     "execution_count": 26,
     "metadata": {},
     "output_type": "execute_result"
    }
   ],
   "source": [
    "autre_arbre.predict(test_data)"
   ]
  },
  {
   "cell_type": "markdown",
   "metadata": {},
   "source": [
    "On rappelle que les vraies classes des exemples de test sont les suivantes:"
   ]
  },
  {
   "cell_type": "code",
   "execution_count": 27,
   "metadata": {
    "collapsed": false
   },
   "outputs": [
    {
     "data": {
      "text/plain": [
       "array([0, 0, 0, 0, 0, 0, 0, 0, 0, 0, 0, 0, 0, 0, 0, 0, 0, 0, 0, 0, 1, 1, 1,\n",
       "       1, 1, 1, 1, 1, 1, 1, 1, 1, 1, 1, 1, 1, 1, 1, 1, 1, 2, 2, 2, 2, 2, 2,\n",
       "       2, 2, 2, 2, 2, 2, 2, 2, 2, 2, 2, 2, 2, 2])"
      ]
     },
     "execution_count": 27,
     "metadata": {},
     "output_type": "execute_result"
    }
   ],
   "source": [
    "test_target"
   ]
  },
  {
   "cell_type": "markdown",
   "metadata": {},
   "source": [
    "<font size=\"+1\">**[Q]**</font> En comparant visuelle ces 2 résultats, combien trouvez-vous d'exemples sont mal classés par l'arbre?"
   ]
  },
  {
   "cell_type": "markdown",
   "metadata": {},
   "source": [
    "<font size=\"+1\">**[R]**</font> On trouve 2 erreurs dans les prédictions"
   ]
  },
  {
   "cell_type": "markdown",
   "metadata": {},
   "source": [
    "<font size=\"+1\">**[Q]**</font> Ecrire la fonction taux_erreur() qui prend en argument deux tableaux (des \"array\" Python), l'un étant le tableau des classes originales et l'autre étant le tableau des classes fournies par le classifieur, et rend le taux d'erreur de la classification réalisée.\n",
    "\n",
    "Le taux d'erreur $t_{err}$ d'un classifieur $M$ se détermine comme suit:\n",
    "$$t_{err}(M)= \\frac{n_{err}(M)}{n_{T}}$$\n",
    "\n",
    "avec: \n",
    "- $n_{err}(M)$: nombre d'exemples de la base de test qui sont mal classés par $M$\n",
    "- $n_{T}$: nombre d'exemples total de la base de test"
   ]
  },
  {
   "cell_type": "code",
   "execution_count": 42,
   "metadata": {
    "collapsed": false
   },
   "outputs": [],
   "source": [
    "def taux_erreur(test, predict):\n",
    "    taux = 0\n",
    "    for i in range(len(test)):\n",
    "        if test[i] != predict[i]:\n",
    "            taux += 1.0\n",
    "    return taux/float(len(test))"
   ]
  },
  {
   "cell_type": "code",
   "execution_count": 43,
   "metadata": {
    "collapsed": false
   },
   "outputs": [
    {
     "name": "stdout",
     "output_type": "stream",
     "text": [
      "0.633333333333\n"
     ]
    }
   ],
   "source": [
    "print taux_erreur(test_target,autre_arbre.predict(test_data))"
   ]
  },
  {
   "cell_type": "markdown",
   "metadata": {},
   "source": [
    "### Choix aléatoire des exemples d'apprentissage\n",
    "\n",
    "Le taux d'erreur obtenu correspond à une base d'apprentissage construite en prenant les 30 premiers exemples de chaque classe. Pour être rigoureux, il faudrait réaliser l'expérience en prenant *aléatoirement* 30 exemples de chaque classe dans la base.\n",
    "\n",
    "La fonction shuffle() de la librairie Python random permet de mélanger aléatoirement les valeurs d'une liste donnée en argument.\n",
    "Par exemple, exécuter plusieurs fois les instructions de la boîte suivante:"
   ]
  },
  {
   "cell_type": "code",
   "execution_count": 44,
   "metadata": {
    "collapsed": false
   },
   "outputs": [
    {
     "name": "stdout",
     "output_type": "stream",
     "text": [
      "La liste L avant le mélange:  [0, 1, 2, 3, 4, 5, 6, 7, 8, 9, 10]\n",
      "La liste L après le mélange:  [2, 7, 8, 9, 5, 10, 1, 6, 3, 0, 4]\n"
     ]
    }
   ],
   "source": [
    "import random\n",
    "L= [i for i in range(0,11)]             # construction de la liste des entiers de 0 à 10\n",
    "print \"La liste L avant le mélange: \",L \n",
    "random.shuffle(L)                       # mélange aléatoire\n",
    "print \"La liste L après le mélange: \",L"
   ]
  },
  {
   "cell_type": "markdown",
   "metadata": {
    "collapsed": true
   },
   "source": [
    "<font size=\"+1\">**[Q]**</font> Ecrire une fonction split_aleatoire() qui prend en argument \n",
    "- 2 bases de type numpy.ndarray:\n",
    "    - une base de descriptions d'exemples (par exemple celle des Iris: base_iris.data), \n",
    "    - la base des classes correspondantes (par exemple, base_iris.target), \n",
    "- un entier donnant le nombre de classes différentes existantes (par exemple, 3) \n",
    "- et un entier (nTrain)\n",
    "\n",
    "et qui rend un quatruplet composé de 4 bases de type numpy.ndarray:\n",
    "- la base train_data construite en prenant les descriptions de nTrain exemples de chaque classe choisis aléatoirement\n",
    "- la base train_class correspondant à la base précédente: elle contient les classes des exemples correspondants\n",
    "- la base test_data construite en prenant les descriptions restantes de chaque classe\n",
    "- la base test_class correspondant à la base précédente.\n",
    "\n",
    "**Remarque**: si la base contient, au départ, $n$ exemples de la classe $C_1$, il est possible de procéder ainsi:\n",
    "- générer une liste des indices de $0$ à $n-1$;\n",
    "- mélanger aléatoirement ces indices;\n",
    "- retenir les nTrain premiers indices de la liste mélangée pour constituer l'ensemble train. Les indices non retenus sont utilisés pour construire test."
   ]
  },
  {
   "cell_type": "code",
   "execution_count": 45,
   "metadata": {
    "collapsed": false
   },
   "outputs": [],
   "source": [
    "def split_aleatoire(desc, classs, nbClasss, nTrain):\n",
    "    liste = range(len(desc))\n",
    "    random.shuffle(liste)\n",
    "    tab = [0 for i in range(nbClasss)]\n",
    "    res = [[],[],[],[]]\n",
    "    for i in range(len(liste)):\n",
    "        if(tab[classs[liste[i]]] >= nTrain):\n",
    "            res[2].append(desc[liste[i]])\n",
    "            res[3].append(classs[liste[i]])\n",
    "        else:\n",
    "            res[0].append(desc[liste[i]])\n",
    "            res[1].append(classs[liste[i]])\n",
    "        tab[classs[liste[i]]] += 1\n",
    "    return res"
   ]
  },
  {
   "cell_type": "code",
   "execution_count": 46,
   "metadata": {
    "collapsed": false
   },
   "outputs": [
    {
     "name": "stdout",
     "output_type": "stream",
     "text": [
      "Base départ:  150\n",
      "90  /  90  /  60  /  60\n"
     ]
    }
   ],
   "source": [
    "print \"Base départ: \", len(base_iris.data)\n",
    "train_data, train_class, test_data, test_class = split_aleatoire(base_iris.data,base_iris.target,3, 30)\n",
    "print len(train_data),\" / \", len(train_class),\" / \", len(test_class),\" / \", len(test_class)"
   ]
  },
  {
   "cell_type": "markdown",
   "metadata": {},
   "source": [
    "<font size=\"+1\">**[Q]**</font> En utilisant la fonction précédente, construire 10 arbres de décisions en prenant à chaque fois 90 exemples d'apprentissage choisis aléatoirement (donc avec 30 exemples de chaque classe) et fournir le taux d'erreur obtenu sur la base de test correspondante. Calculer la moyenne et l'écart type de ce taux d'erreur.\n",
    "\n",
    "\n",
    "**Remarque**: on pourra utiliser les fonctions de la librairie numpy: mean(L) et std(L) qui, pour une liste L de réels donnée, rend la valeur de la moyenne de la liste et son écart type. Par exemple:"
   ]
  },
  {
   "cell_type": "code",
   "execution_count": 47,
   "metadata": {
    "collapsed": false
   },
   "outputs": [
    {
     "name": "stdout",
     "output_type": "stream",
     "text": [
      "moyenne:  2.0  et écart type:  0.790569415042\n"
     ]
    }
   ],
   "source": [
    "L=[1.5, 1, 2.5, 3]\n",
    "print \"moyenne: \",np.mean(L),\" et écart type: \", np.std(L)"
   ]
  },
  {
   "cell_type": "code",
   "execution_count": 49,
   "metadata": {
    "collapsed": false
   },
   "outputs": [
    {
     "name": "stdout",
     "output_type": "stream",
     "text": [
      "Construction de 10 arbres de décision avec 90 exemples pris aléatoirement:\n",
      "\tMoyenne du taux d'erreur: 0.0516666666667\n",
      "\tEcart type: 0.0240947204913\n"
     ]
    }
   ],
   "source": [
    "def construction(nbArbres, nTrain):\n",
    "    arbre = []\n",
    "    erreurList = []\n",
    "    for i in range(nbArbres):\n",
    "        train_data, train_class, test_data, test_class = split_aleatoire(base_iris.data,base_iris.target,3, nTrain)\n",
    "        arbre.append(tree.DecisionTreeClassifier())\n",
    "        arbre[i].fit(train_data, train_class)\n",
    "        erreurList.append(taux_erreur(arbre[i].predict(test_data), test_class))\n",
    "    print \"Construction de \"+str(nbArbres)+\" arbres de décision avec \"+str(len(base_iris.target_names)*nTrain)+\" exemples pris aléatoirement:\"\n",
    "    print \"\\tMoyenne du taux d'erreur: \"+str(np.mean(erreurList))\n",
    "    print \"\\tEcart type: \"+ str(np.std(erreurList))\n",
    "    \n",
    "construction(10, 30)"
   ]
  },
  {
   "cell_type": "markdown",
   "metadata": {},
   "source": [
    "### Variation du taux d'erreur\n",
    "\n",
    "On souhaite étudier l'influence de la taille de la base d'apprentissage sur le taux d'erreur, pour cela, on doit réaliser l'expérimentation suivante:\n",
    "- séparer la base d'exemples initiale en 2 sous-bases: une base d'apprentissage $BA$ et une base de test $BT$. La base de test sert à évaluer l'arbre de décision construit, et les exemples qu'elle contient ne doivent donc jamais être utilisés dans la phase d'apprentissage.\n",
    "- extraire à partir de la base d'apprentissage $BA$, plusieurs sous-bases d'apprentissage $BA_1$, $BA_2$,... contenant un nombre d'exemples différent. \n",
    "- construire un arbre de décision pour chaque base $BA_i$ et évaluer son taux d'erreur lors de la classification de $BT$.\n",
    "\n",
    "Il est alors possible, ensuite, de tracer la courbe des variations du taux d'erreur en fonction du nombre d'exemples dans la base d'apprentissage.\n",
    "\n"
   ]
  },
  {
   "cell_type": "markdown",
   "metadata": {},
   "source": [
    "<font size=\"+1\">**[Q]**</font>\n",
    " Ecrire une fonction plusieurs_taux_erreur() qui prend en argument \n",
    "- 2 bases de type numpy.ndarray:\n",
    "    - une base de descriptions d'exemples (par exemple celle des Iris: base_iris.data), \n",
    "    - la base des classes correspondantes (par exemple, base_iris.target), \n",
    "- un entier donnant le nombre de classes différentes existantes (par exemple, 3) \n",
    "- un entier nTrain donnant le nombre d'exemples de chaque classe à utiliser pour l'apprentissage\n",
    "- une liste d'entiers $[n_1, n_2,..., n_k]$ donnant des nombre d'exemples de chaque classe à prendre pour construire un arbre de décision\n",
    "\n",
    "Après avoir séparé aléatoirement les 2 bases données en 2 parties (partie_train et partie_test (data et target correspondant)) en prenant nTrain exemples de chaque classe pour l'apprentissage, cette fonction rend la liste $t_1, t_2,..., t_k$ tels que le taux d'erreur $t_i$ est obtenu en construisant un arbre en prenant $n_i$ exemples de la partie_train et en l'évaluant sur la partie_test.\n",
    "\n"
   ]
  },
  {
   "cell_type": "code",
   "execution_count": 61,
   "metadata": {
    "collapsed": true
   },
   "outputs": [],
   "source": [
    "def plusieurs_taux_erreur(base_data,base_target,nbClasss,nTrain,listint):\n",
    "    erreurList = []\n",
    "    for i in range(len(listint)):\n",
    "        train_data, train_class, test_data, test_class = split_aleatoire(base_data,base_target,nbClasss, nTrain)\n",
    "        arbre=tree.DecisionTreeClassifier()\n",
    "        arbre.fit(train_data[0:listint[i]*nbClasss], train_class[0:listint[i]*nbClasss])\n",
    "        erreurList.append(taux_erreur(arbre.predict(test_data), test_class))\n",
    "    return erreurList"
   ]
  },
  {
   "cell_type": "code",
   "execution_count": 62,
   "metadata": {
    "collapsed": false
   },
   "outputs": [
    {
     "data": {
      "text/plain": [
       "[0.35555555555555557,\n",
       " 0.3333333333333333,\n",
       " 0.15555555555555556,\n",
       " 0.06666666666666667,\n",
       " 0.17777777777777778,\n",
       " 0.06666666666666667,\n",
       " 0.022222222222222223,\n",
       " 0.044444444444444446,\n",
       " 0.044444444444444446,\n",
       " 0.044444444444444446]"
      ]
     },
     "execution_count": 62,
     "metadata": {},
     "output_type": "execute_result"
    }
   ],
   "source": [
    "Liste_nombres= [1, 2, 3, 5, 7, 10, 15, 20, 25, 30]\n",
    "Liste_taux \n",
    "Liste_taux = plusieurs_taux_erreur_10(digits.data,digits.target,10,25, [x*10 for x in range(1,16)])= plusieurs_taux_erreur(base_iris.data,base_iris.target,3,35, Liste_nombres)\n",
    "Liste_taux"
   ]
  },
  {
   "cell_type": "markdown",
   "metadata": {},
   "source": [
    "On peut ensuite tracer la courbe représentant ces variations du taux d'erreur:"
   ]
  },
  {
   "cell_type": "code",
   "execution_count": 63,
   "metadata": {
    "collapsed": false
   },
   "outputs": [
    {
     "name": "stdout",
     "output_type": "stream",
     "text": [
      "Populating the interactive namespace from numpy and matplotlib\n"
     ]
    },
    {
     "data": {
      "image/png": "[encoded data removed]",
      "text/plain": [
       "<matplotlib.figure.Figure at 0x7fa023a5b410>"
      ]
     },
     "metadata": {},
     "output_type": "display_data"
    }
   ],
   "source": [
    "# On utilise warnings pour éviter les messages inutiles:\n",
    "import warnings\n",
    "with warnings.catch_warnings():\n",
    "    %pylab inline\n",
    "    plot(Liste_nombres, Liste_taux)"
   ]
  },
  {
   "cell_type": "markdown",
   "metadata": {},
   "source": [
    "<font size=\"+1\">**[Q]**</font> En utilisant la fonction précédente, tracer la courbe en réalisant 10 expérimentations et en prenant ensuite la moyenne des taux d'erreurs obtenu."
   ]
  },
  {
   "cell_type": "code",
   "execution_count": 64,
   "metadata": {
    "collapsed": false
   },
   "outputs": [
    {
     "name": "stdout",
     "output_type": "stream",
     "text": [
      "Populating the interactive namespace from numpy and matplotlib\n"
     ]
    },
    {
     "data": {
      "image/png": "[encoded data removed]",
      "text/plain": [
       "<matplotlib.figure.Figure at 0x7fa023909390>"
      ]
     },
     "metadata": {},
     "output_type": "display_data"
    }
   ],
   "source": [
    "def plusieurs_taux_erreur_10(base_data,base_target,nbClasss,nTrain,listint):\n",
    "    Liste_taux = []\n",
    "    for i in range(10):\n",
    "        Liste_taux.append(plusieurs_taux_erreur(base_data,base_target,nbClasss,nTrain,listint))\n",
    "    moyenne_taux_erreur = [ ]\n",
    "    for i in range(len(listint)):\n",
    "        m\n",
    "Liste_taux = plusieurs_taux_erreur_10(digits.data,digits.target,10,25, [x*10 for x in range(1,16)])oyenne_taux_erreur.append(np.mean([ Liste_taux[j][i] for j in range(10) ]))\n",
    "    return moyenne_taux_erreur\n",
    "\n",
    "Liste_taux = plusieurs_taux_erreur_10(base_iris.data,base_iris.target,3,35, Liste_nombres)\n",
    "with warnings.catch_warnings():\n",
    "    %pylab inline\n",
    "    plot(Liste_nombres, Liste_taux)"
   ]
  },
  {
   "cell_type": "markdown",
   "metadata": {},
   "source": [
    "## D'autres bases"
   ]
  },
  {
   "cell_type": "markdown",
   "metadata": {
    "collapsed": true
   },
   "source": [
    "### La base \"Digits\"\n",
    "\n",
    "<font size=\"+1\">**[Q]**</font> Réaliser la même suite d'expériences que celles réalisées avec la base des Iris, en prenant la base \"Digits\" fournie avec scikit learn.\n",
    "\n",
    "Cette base contient 1797 exemples associés à 10 classes. Ces exemples sont décrits avec 64 attributs.\n",
    "- contruire un arbre de décision en prenant nTrain=25 exemples de chaque classe. Afficher cet arbre.\n",
    "- tracer la courbe des taux d'erreur obtenue en faisant varier nTrain de 10 à 150 (par pas de 10)."
   ]
  },
  {
   "cell_type": "code",
   "execution_count": 70,
   "metadata": {
    "collapsed": false
   },
   "outputs": [
    {
     "name": "stdout",
     "output_type": "stream",
     "text": [
      "Populating the interactive namespace from numpy and matplotlib\n"
     ]
    },
    {
     "data": {
      "image/png": "[encoded data removed]",
      "text/plain": [
       "<matplotlib.figure.Figure at 0x7fa0234e3050>"
      ]
     },
     "metadata": {},
     "output_type": "display_data"
    }
   ],
   "source": [
    "from sklearn.datasets import load_digits\n",
    "digits = load_digits()\n",
    "\n",
    "def variation_nTrain(data,target,nbClasss):    \n",
    "    arbre = []\n",
    "    erreurList = []\n",
    "    for i in [x*10 for x in range(1,16)]:\n",
    "        train_data, train_class, test_data, test_class = split_aleatoire(data,target,nbClasss, i)\n",
    "        arbre.append(tree.DecisionTreeClassifier())\n",
    "        arbre[len(arbre)-1].fit(train_data, train_class)\n",
    "        erreurList.append(taux_erreur(arbre[len(arbre)-1].predict(test_data), test_class))\n",
    "    return erreurList\n",
    "\n",
    "Liste_taux = variation_nTrain(digits.data,digits.target,10)\n",
    "with warnings.catch_warnings():\n",
    "    %pylab inline\n",
    "    plot([x*10 for x in range(1,16)], Liste_taux)"
   ]
  },
  {
   "cell_type": "markdown",
   "metadata": {},
   "source": [
    "### (partie facultative) Bases de l'UCI Machine Learning Repository\n",
    "\n",
    "Ce dépôt contient un grand nombre de bases d'apprentissage disponible librement:\n",
    "http://archive.ics.uci.edu/ml/datasets.html\n",
    "\n",
    "Choisir une base d'apprentissage dans ce site, cette base doit :\n",
    "- être adaptée pour une tâche de classification\n",
    "- ne pas avoir de valeurs manquantes\n",
    "- posséder entre 100 et 1000 exemples\n",
    "\n",
    "<font size=\"+1\">**[Q]**</font> Réaliser la même suite d'expériences que celles réalisées précédemment. Afficher l'arbre construit en prenant 10% des exemples de chaque classe dans la base que vous avez choisie."
   ]
  },
  {
   "cell_type": "code",
   "execution_count": 77,
   "metadata": {
    "collapsed": true
   },
   "outputs": [],
   "source": []
  }
 ],
 "metadata": {
  "kernelspec": {
   "display_name": "Python 2",
   "language": "python",
   "name": "python2"
  },
  "language_info": {
   "codemirror_mode": {
    "name": "ipython",
    "version": 2
   },
   "file_extension": ".py",
   "mimetype": "text/x-python",
   "name": "python",
   "nbconvert_exporter": "python",
   "pygments_lexer": "ipython2",
   "version": "2.7.9"
  }
 },
 "nbformat": 4,
 "nbformat_minor": 0
}
